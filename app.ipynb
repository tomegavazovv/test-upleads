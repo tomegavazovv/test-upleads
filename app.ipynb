{
 "cells": [
  {
   "cell_type": "code",
   "execution_count": 19,
   "metadata": {},
   "outputs": [],
   "source": [
    "suitability_system = \"\"\"\n",
    "# Role\n",
    "\n",
    "You are an AI Agent tasked with assessing how suitable a given Upwork job post is for MVP Masters, returning a score from 0 to 100.\n",
    "\n",
    "---\n",
    "\n",
    "# Instructions\n",
    "\n",
    "1. **Input**: You will receive the job's title and description.\n",
    "2. **Action**: Compare the job requirements against the \"Knowledge Base\" below.\n",
    "3. **Output**: Provide:\n",
    "   - A suitability rating (0 to 100) indicating how well this job aligns with MVP Masters' capabilities and preferences.\n",
    "   - A succinct reasoning for that rating in **no more than two sentences**.\n",
    "\n",
    "---\n",
    "\n",
    "# Rules\n",
    "\n",
    "1. If the job post explicitly requires skills or services **not** mentioned in the knowledge base, score it close to **0**.\n",
    "2. If the job fits well with MVP Masters' described areas of expertise, approaches, technologies, and project types, score it closer to **100**.\n",
    "3. Be **strict**: if something is not clearly within MVP Masters' capabilities (as stated in the knowledge base), assume they **do not provide** it.\n",
    "4. Do not provide additional commentary beyond the rating and reasoning.\n",
    "\n",
    "---\n",
    "\n",
    "# Knowledge Base\n",
    "\n",
    "## Summary\n",
    "\n",
    "MVP Masters is a tech partner dedicated to assisting entrepreneurs in successfully developing their products. They specialize in end-to-end product development, streamlining product management, workflows, processes, integrations, and data analytics to ensure products stay on track and deliver results.\n",
    "\n",
    "## Specialty\n",
    "\n",
    "MVP Masters excels in:\n",
    "\n",
    "- **Lean Engineering**: Building fast and smart using robust yet scalable technologies, ready-made components, and top-notch integration tools, coding with the speed of no-code.\n",
    "- **User-Centric Design**: Designing with customers in mind, creating functional, intuitive, and impactful designs through discovery and user feedback.\n",
    "- **Product Management**: Simplifying product management from project execution to strategy, analytics, and discovery.\n",
    "\n",
    "## Types of Projects We Take On\n",
    "\n",
    "### Engagement-Based\n",
    "\n",
    "- **End-to-End Product Development**: Full-cycle product development from discovery to post-launch growth.\n",
    "- **Green-Field Projects**: Projects that require building a product from scratch.\n",
    "- **Long-Term Engagements**: Multi-month or multi-year engagements where MVP Masters plays a strategic role in building and scaling the product.\n",
    "\n",
    "### Industry-Based\n",
    "\n",
    "- **B2B SaaS Applications**: Automation, analytics, integrations.\n",
    "- **PropTech Solutions**: Real estate and property management.\n",
    "- **E-Commerce & Marketplaces**: Including CRM/ERP integrations.\n",
    "- **Social & Community Platforms**: User engagement, social interaction, gamification.\n",
    "- **FinTech Solutions**: Secure, scalable financial applications with compliance.\n",
    "- **AI & Automation**: Products leveraging AI, ML, and automation tools.\n",
    "\n",
    "### Project Complexity\n",
    "\n",
    "MVP Masters typically handles full-scope or substantial product builds rather than small tasks or fixes.\n",
    "\n",
    "## Types of Projects We Avoid\n",
    "\n",
    "- **Technology-Specific Constraints** outside of their tech stack.\n",
    "- **Team Augmentation** where only a developer is needed to join an existing team.\n",
    "- **Maintenance-Only Work** on legacy or existing software.\n",
    "- **Small Gigs & Fixes** (bug fixes, minor adjustments).\n",
    "- **Answering Technical Questions** (consulting-only without execution).\n",
    "\n",
    "## Examples of Projects They Take On\n",
    "\n",
    "- **Dubbing CRM Web Applications** (Voice dubbing, CRMs, automation).\n",
    "- **Sports Social Network Mobile Applications** (User rating, social features).\n",
    "- **Hospitality PropTech Web & Mobile Applications** (Property optimization).\n",
    "- **Home Improvement E-Commerce Platforms** (Full-scale e-commerce with significant integrations).\n",
    "- **ERP/CRM Systems for Niche Markets** (Custom ERP/CRM solutions).\n",
    "- **Spiritual Web Applications** (Focused on user-centric experiences).\n",
    "\n",
    "## Approach\n",
    "\n",
    "1. **Discovery & Shaping**\n",
    "2. **Prototyping & Ideation**\n",
    "3. **Design & Development**\n",
    "4. **Alpha/Beta Stages**\n",
    "5. **Live MVP**\n",
    "6. **Growing Product**\n",
    "\n",
    "## Technologies They Use\n",
    "\n",
    "- **Front-end**: Next.js, MUI, React Native\n",
    "- **Back-end**: Nest.js, Node.js, Firebase\n",
    "- **Infrastructure**: Google Cloud Platform (GCP), Amazon Web Services (AWS), Terraform\n",
    "- **Data**: Posthog, Mixpanel, Google Analytics 4 (GA4)\n",
    "\n",
    "## Location\n",
    "\n",
    "- Venice, CA, USA\n",
    "- Tallinn, Estonia\n",
    "- Skopje, Macedonia\n",
    "\n",
    "## Selected Case Studies\n",
    "\n",
    "- **Human Voice Over (HVO)**: Dubbing CRM Web Application.\n",
    "- **RateGame**: Sports social network mobile app.\n",
    "- **Hububb**: Hospitality PropTech platform (web + mobile).\n",
    "- **Cabinet Deals**: Home improvement e-commerce platform.\n",
    "- **KBB Suite**: CRM/ERP for kitchen cabinet showrooms.\n",
    "\n",
    "---\n",
    "\n",
    "Please use the above knowledge base to strictly evaluate the provided job post.\n",
    "\"\"\""
   ]
  },
  {
   "cell_type": "code",
   "execution_count": 1,
   "metadata": {},
   "outputs": [],
   "source": [
    "from dotenv import load_dotenv\n",
    "_ = load_dotenv()"
   ]
  },
  {
   "cell_type": "code",
   "execution_count": 23,
   "metadata": {},
   "outputs": [],
   "source": [
    "from langgraph.graph import StateGraph, END\n",
    "from typing import TypedDict, Annotated\n",
    "from pydantic import BaseModel, Field\n",
    "import operator\n",
    "from langchain_core.messages import AnyMessage, SystemMessage, HumanMessage, ToolMessage\n",
    "from langchain_openai import ChatOpenAI\n",
    "from langchain_community.tools.tavily_search import TavilySearchResults\n",
    "from langchain_core.runnables import RunnableConfig\n",
    "import json"
   ]
  },
  {
   "cell_type": "code",
   "execution_count": 6,
   "metadata": {},
   "outputs": [],
   "source": [
    "from langgraph.checkpoint.memory import MemorySaver\n",
    "\n",
    "memory = MemorySaver()"
   ]
  },
  {
   "cell_type": "code",
   "execution_count": 190,
   "metadata": {},
   "outputs": [],
   "source": [
    "class SuitabilityRating(BaseModel):\n",
    "    suitability_rating: int = Field(description=\"A score between 0 and 100 indicating the suitability of the job post for the company\")\n",
    "    reason: str = Field(description=\"A detailed explanation of the suitability score. Max 2 sentences.\")"
   ]
  },
  {
   "cell_type": "code",
   "execution_count": 191,
   "metadata": {},
   "outputs": [],
   "source": [
    "class SuitabilityRatingByModel(BaseModel):\n",
    "    model_name: str\n",
    "    suitability_rating: SuitabilityRating"
   ]
  },
  {
   "cell_type": "code",
   "execution_count": 192,
   "metadata": {},
   "outputs": [],
   "source": [
    "class AnalyzeJobState(BaseModel):\n",
    "    job_title: str\n",
    "    job_description: str\n",
    "    model_name: str"
   ]
  },
  {
   "cell_type": "code",
   "execution_count": 193,
   "metadata": {},
   "outputs": [],
   "source": [
    "class SuitabilityAgentState(TypedDict):\n",
    "    suitability_ratings: Annotated[list[SuitabilityRatingByModel], operator.add]\n",
    "    models: list[str]\n",
    "    job_title: str\n",
    "    job_description: str"
   ]
  },
  {
   "cell_type": "code",
   "execution_count": 216,
   "metadata": {},
   "outputs": [],
   "source": [
    "from langchain_openai import ChatOpenAI\n",
    "from langchain_anthropic import ChatAnthropic\n",
    "from langchain_openai.chat_models.base import BaseChatOpenAI\n",
    "from langchain.callbacks.manager import CallbackManager\n",
    "from langchain.callbacks.tracers import LangChainTracer\n",
    "import os\n",
    "\n",
    "tracer = LangChainTracer(project_name=\"chatbot-upleads\")\n",
    "\n",
    "def get_model_instance(model_name):\n",
    "  if 'gpt' in model_name:\n",
    "    return ChatOpenAI(\n",
    "      model=model_name,\n",
    "      temperature=0,\n",
    "      callback_manager=CallbackManager([tracer]),\n",
    "      api_key=os.getenv(\"OPENAI_API_KEY\"),\n",
    "      request_timeout=30\n",
    "    )\n",
    "  elif 'deepseek' in model_name:\n",
    "    return BaseChatOpenAI(\n",
    "      model=model_name,\n",
    "      openai_api_key=os.getenv('DEEPSEEK_API_KEY'),\n",
    "      openai_api_base=\"https://api.deepseek.com\",\n",
    "      max_tokens=1024,\n",
    "      temperature=0,\n",
    "      callback_manager=CallbackManager([tracer]),\n",
    "      request_timeout=30\n",
    "    )\n",
    "  elif 'claude' in model_name:\n",
    "    return ChatAnthropic(\n",
    "      model=model_name,\n",
    "      temperature=0,\n",
    "      max_tokens=1024,\n",
    "      timeout=30,\n",
    "      max_retries=2,\n",
    "      api_key=os.getenv('ANTHROPIC_API_KEY'),\n",
    "      callback_manager=CallbackManager([tracer])\n",
    "    )\n"
   ]
  },
  {
   "cell_type": "code",
   "execution_count": 217,
   "metadata": {},
   "outputs": [],
   "source": [
    "class SuitabilityAgent:\n",
    "    def __init__(self, models, system=\"\"):\n",
    "        self.system = system\n",
    "        self.models = models\n",
    "        graph = StateGraph(SuitabilityAgentState)\n",
    "\n",
    "        # nodes\n",
    "        graph.add_node(\"distribute_to_models\", self.distribute_to_models)\n",
    "        graph.add_node(\"analyze_job\", self.analyze_job)\n",
    "\n",
    "        # Fix: Change the entry point to distribute_to_models\n",
    "        graph.set_entry_point(\"distribute_to_models\")\n",
    "        \n",
    "        graph.add_conditional_edges(\"distribute_to_models\", self.continue_to_analyze_job, [\"analyze_job\"])\n",
    "        graph.add_edge(\"analyze_job\", END)\n",
    "        \n",
    "        self.graph = graph.compile()\n",
    "\n",
    "    def distribute_to_models(self, state: SuitabilityAgentState):\n",
    "        return state\n",
    "\n",
    "    def continue_to_analyze_job(self, state: SuitabilityAgentState):\n",
    "        return [Send(\"analyze_job\", {\"job_title\": state[\"job_title\"], \"job_description\": state[\"job_description\"], \"model_name\": model_name}) for model_name in state[\"models\"]]\n",
    "\n",
    "    def analyze_job(self, state: AnalyzeJobState, config: RunnableConfig):\n",
    "        display(state)\n",
    "        job = {\n",
    "            \"title\": state['job_title'],\n",
    "            \"description\": state['job_description']\n",
    "        }\n",
    "        messages = [HumanMessage(content=json.dumps(job))]\n",
    "        if self.system:\n",
    "            messages = [SystemMessage(content=self.system)] + messages\n",
    "\n",
    "        model = get_model_instance(state['model_name']).with_structured_output(SuitabilityRating)\n",
    "\n",
    "        message = model.invoke(messages, config=config)\n",
    "\n",
    "        suitability_rating = SuitabilityRating(suitability_rating=message.suitability_rating, reason=message.reason)\n",
    "        result = SuitabilityRatingByModel(model_name=state['model_name'], suitability_rating=suitability_rating)\n",
    "\n",
    "        return {'suitability_ratings': [result]}"
   ]
  },
  {
   "cell_type": "code",
   "execution_count": 218,
   "metadata": {},
   "outputs": [],
   "source": [
    "job = {\n",
    "    \"title\": \"NextJS, Vercel, and Postgres Expert needed\",\n",
    "    \"description\": \"\"\"Are you familiar with NextJS, Vercel, and Postgres? It is subcontracted and I am seeking an individual developer who can work full-time (8 hours per day) in the Eastern US time zone. You must be available to attend daily team meeting and maintain transparency about your work. If this opportunity aligns with your skills and availability, please submit your bid promptly. I’m ready to hire immediately!\"\"\"\n",
    "}"
   ]
  },
  {
   "cell_type": "code",
   "execution_count": 220,
   "metadata": {},
   "outputs": [
    {
     "data": {
      "text/plain": [
       "{'job_title': 'NextJS, Vercel, and Postgres Expert needed',\n",
       " 'job_description': 'Are you familiar with NextJS, Vercel, and Postgres? It is subcontracted and I am seeking an individual developer who can work full-time (8 hours per day) in the Eastern US time zone. You must be available to attend daily team meeting and maintain transparency about your work. If this opportunity aligns with your skills and availability, please submit your bid promptly. I’m ready to hire immediately!',\n",
       " 'model_name': 'gpt-4o'}"
      ]
     },
     "metadata": {},
     "output_type": "display_data"
    },
    {
     "name": "stderr",
     "output_type": "stream",
     "text": [
      "/var/folders/sr/7p3k9p494flgblwdhg4mtw840000gn/T/ipykernel_31901/2841639036.py:35: DeprecationWarning: callback_manager is deprecated. Please use callbacks instead.\n",
      "  model = get_model_instance(state['model_name']).with_structured_output(SuitabilityRating)\n"
     ]
    },
    {
     "data": {
      "text/plain": [
       "{'job_title': 'NextJS, Vercel, and Postgres Expert needed',\n",
       " 'job_description': 'Are you familiar with NextJS, Vercel, and Postgres? It is subcontracted and I am seeking an individual developer who can work full-time (8 hours per day) in the Eastern US time zone. You must be available to attend daily team meeting and maintain transparency about your work. If this opportunity aligns with your skills and availability, please submit your bid promptly. I’m ready to hire immediately!',\n",
       " 'model_name': 'gpt-4o-mini'}"
      ]
     },
     "metadata": {},
     "output_type": "display_data"
    },
    {
     "name": "stderr",
     "output_type": "stream",
     "text": [
      "/var/folders/sr/7p3k9p494flgblwdhg4mtw840000gn/T/ipykernel_31901/2841639036.py:35: DeprecationWarning: callback_manager is deprecated. Please use callbacks instead.\n",
      "  model = get_model_instance(state['model_name']).with_structured_output(SuitabilityRating)\n"
     ]
    },
    {
     "data": {
      "text/plain": [
       "{'job_title': 'NextJS, Vercel, and Postgres Expert needed',\n",
       " 'job_description': 'Are you familiar with NextJS, Vercel, and Postgres? It is subcontracted and I am seeking an individual developer who can work full-time (8 hours per day) in the Eastern US time zone. You must be available to attend daily team meeting and maintain transparency about your work. If this opportunity aligns with your skills and availability, please submit your bid promptly. I’m ready to hire immediately!',\n",
       " 'model_name': 'deepseek-chat'}"
      ]
     },
     "metadata": {},
     "output_type": "display_data"
    },
    {
     "data": {
      "text/plain": [
       "{'job_title': 'NextJS, Vercel, and Postgres Expert needed',\n",
       " 'job_description': 'Are you familiar with NextJS, Vercel, and Postgres? It is subcontracted and I am seeking an individual developer who can work full-time (8 hours per day) in the Eastern US time zone. You must be available to attend daily team meeting and maintain transparency about your work. If this opportunity aligns with your skills and availability, please submit your bid promptly. I’m ready to hire immediately!',\n",
       " 'model_name': 'claude-3-5-sonnet-20240620'}"
      ]
     },
     "metadata": {},
     "output_type": "display_data"
    },
    {
     "name": "stderr",
     "output_type": "stream",
     "text": [
      "/var/folders/sr/7p3k9p494flgblwdhg4mtw840000gn/T/ipykernel_31901/2841639036.py:35: DeprecationWarning: callback_manager is deprecated. Please use callbacks instead.\n",
      "  model = get_model_instance(state['model_name']).with_structured_output(SuitabilityRating)\n"
     ]
    },
    {
     "name": "stdout",
     "output_type": "stream",
     "text": [
      "{'suitability_ratings': [SuitabilityRatingByModel(model_name='gpt-4o', suitability_rating=SuitabilityRating(suitability_rating=0, reason='The job post seeks an individual developer for team augmentation, which MVP Masters avoids, and it requires specific technologies like Vercel and Postgres that are not mentioned in their tech stack.')), SuitabilityRatingByModel(model_name='gpt-4o-mini', suitability_rating=SuitabilityRating(suitability_rating=10, reason='The job post requires a specific focus on individual development work with NextJS, Vercel, and Postgres, which suggests a technology-specific constraint that MVP Masters avoids. Additionally, it emphasizes team augmentation rather than the end-to-end product development that MVP Masters specializes in.')), SuitabilityRatingByModel(model_name='claude-3-5-sonnet-20240620', suitability_rating=SuitabilityRating(suitability_rating=20, reason=\"While MVP Masters has expertise in Next.js, which aligns with the job requirements, they do not typically engage in team augmentation or individual developer placements. The job post specifically seeks a full-time individual developer, which goes against MVP Masters' preference for full-scope product builds.\")), SuitabilityRatingByModel(model_name='deepseek-chat', suitability_rating=SuitabilityRating(suitability_rating=10, reason=\"The job requires an individual developer for team augmentation and full-time availability, which does not align with MVP Masters' engagement model and project types.\"))], 'models': ['gpt-4o', 'gpt-4o-mini', 'claude-3-5-sonnet-20240620', 'deepseek-chat'], 'job_title': 'NextJS, Vercel, and Postgres Expert needed', 'job_description': 'Are you familiar with NextJS, Vercel, and Postgres? It is subcontracted and I am seeking an individual developer who can work full-time (8 hours per day) in the Eastern US time zone. You must be available to attend daily team meeting and maintain transparency about your work. If this opportunity aligns with your skills and availability, please submit your bid promptly. I’m ready to hire immediately!'}\n"
     ]
    }
   ],
   "source": [
    "models = [\"gpt-4o\", \"gpt-4o-mini\", 'claude-3-5-sonnet-20240620', 'deepseek-chat']\n",
    "\n",
    "abot = SuitabilityAgent(models, system=suitability_system)\n",
    "\n",
    "result = abot.graph.invoke({\"job_title\": job[\"title\"], \"job_description\": job[\"description\"], \"models\": models})\n",
    "print(result)"
   ]
  },
  {
   "cell_type": "code",
   "execution_count": null,
   "metadata": {},
   "outputs": [],
   "source": []
  },
  {
   "cell_type": "code",
   "execution_count": null,
   "metadata": {},
   "outputs": [],
   "source": []
  },
  {
   "cell_type": "code",
   "execution_count": null,
   "metadata": {},
   "outputs": [],
   "source": []
  },
  {
   "cell_type": "code",
   "execution_count": null,
   "metadata": {},
   "outputs": [],
   "source": []
  },
  {
   "cell_type": "code",
   "execution_count": 173,
   "metadata": {},
   "outputs": [
    {
     "data": {
      "text/plain": [
       "{'suitability_rating': '10',\n",
       " 'reason': 'The job focuses on a need for an individual developer for team augmentation, which MVP Masters specifically avoids, and it requires specific expertise in Vercel and Postgres, not mentioned in the knowledge base.',\n",
       " 'messages': [],\n",
       " 'job_title': 'NextJS, Vercel, and Postgres Expert needed',\n",
       " 'job_description': 'Are you familiar with NextJS, Vercel, and Postgres? It is subcontracted and I am seeking an individual developer who can work full-time (8 hours per day) in the Eastern US time zone. You must be available to attend daily team meeting and maintain transparency about your work. If this opportunity aligns with your skills and availability, please submit your bid promptly. I’m ready to hire immediately!'}"
      ]
     },
     "execution_count": 173,
     "metadata": {},
     "output_type": "execute_result"
    }
   ],
   "source": [
    "await main()"
   ]
  },
  {
   "cell_type": "code",
   "execution_count": 12,
   "metadata": {},
   "outputs": [
    {
     "data": {
      "image/png": "[encoded data removed]",
      "text/plain": [
       "<IPython.core.display.Image object>"
      ]
     },
     "execution_count": 12,
     "metadata": {},
     "output_type": "execute_result"
    }
   ],
   "source": [
    "from IPython.display import Image\n",
    "\n",
    "Image(abot.graph.get_graph().draw_png())"
   ]
  },
  {
   "cell_type": "code",
   "execution_count": null,
   "metadata": {},
   "outputs": [],
   "source": [
    "abot.graph.invoke({\"messages\": [HumanMessage(content=\"\")]})"
   ]
  }
 ],
 "metadata": {
  "kernelspec": {
   "display_name": "venv",
   "language": "python",
   "name": "python3"
  },
  "language_info": {
   "codemirror_mode": {
    "name": "ipython",
    "version": 3
   },
   "file_extension": ".py",
   "mimetype": "text/x-python",
   "name": "python",
   "nbconvert_exporter": "python",
   "pygments_lexer": "ipython3",
   "version": "3.13.1"
  }
 },
 "nbformat": 4,
 "nbformat_minor": 2
}
