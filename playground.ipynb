{
 "cells": [
  {
   "cell_type": "code",
   "execution_count": 1,
   "metadata": {},
   "outputs": [
    {
     "data": {
      "text/plain": [
       "<firebase_admin.App at 0x125845400>"
      ]
     },
     "execution_count": 1,
     "metadata": {},
     "output_type": "execute_result"
    }
   ],
   "source": [
    "import firebase_admin\n",
    "from firebase_admin import credentials\n",
    "from firebase_admin import firestore\n",
    "\n",
    "# Initialize Firebase Admin with your service account\n",
    "cred = credentials.Certificate('service-account-dev.json')\n",
    "firebase_admin.initialize_app(cred)"
   ]
  },
  {
   "cell_type": "code",
   "execution_count": 2,
   "metadata": {},
   "outputs": [],
   "source": [
    "db = firestore.client()\n",
    "\n",
    "# Get the 'jobs' collection reference\n",
    "jobs_ref = db.collection('jobs')"
   ]
  },
  {
   "cell_type": "code",
   "execution_count": 3,
   "metadata": {},
   "outputs": [
    {
     "name": "stdout",
     "output_type": "stream",
     "text": [
      "Number of documents in 'jobs' collection: [[<Aggregation alias=field_1, value=17900, readtime=2025-02-17 13:25:20.458410+00:00>]]\n"
     ]
    }
   ],
   "source": [
    "collection_count = jobs_ref.count().get()\n",
    "print(f\"Number of documents in 'jobs' collection: {collection_count}\")"
   ]
  },
  {
   "cell_type": "code",
   "execution_count": 4,
   "metadata": {},
   "outputs": [
    {
     "name": "stdout",
     "output_type": "stream",
     "text": [
      "{'description': 'I am looking for a automation specialist to develop a structured, modular system for data extraction, document management, and workflow automation. The project involves automating celebrity-related data retrieval, including address verification, image sourcing, and engagement tracking. Additional tasks include integrating APIs for movie/show script processing, AI-powered fan mail generation, and logistics automation. The ideal candidate will have expertise in web scraping, AI-driven validation, API integrations, and workflow optimization.\\n\\nProject Details are attached as PDF\\n\\nGeneral Details: \\n- Schedule: I need the system built within two weeks.\\n- Loom Walkthrough: A well-recorded, intuitive Loom video walkthrough that clearly explains the system. This should be accompanied by thorough documentation.\\n- Documentation: In addition to written instructions, include detailed flowcharts or diagrams to help future developers or non-technical team members understand the system’s structure.\\n- System Accessibility: Ensure the system is accessible through forward linking to a domain (e.g. autographproject.com forward directs to the GoogleSheet that is the home)\\n- Gantt Chart: A Gantt chart with major milestones that correspond to the project timeline.\\n\\nIf you can do good work here I have more work.', 'jobUrl': 'https://www.upwork.com/jobs/Quick-mvp-needed_~021889671364444910906/?referrer_url_path=/nx/search/jobs/', 'metadata': {'fixedPrice': 240, 'duration': None, 'hourlyRate': None, 'hours': None, 'paymentType': 'Fixed-price', 'experienceLevel': 'Intermediate'}, 'id': '', 'clientInfo': {'numberOfHires': 39, 'activeEngagements': 4, 'companyIndustry': None, 'totalSpent': 10000, 'isPaymentVerified': True, 'numberOfReviews': 22, 'rating': 4.9, 'region': 'Americas', 'memberSince': 'Jul 30, 2017', 'hireRate': 53, 'companySize': None, 'country': 'United States', 'enterpriseClient': False, 'jobsPosted': 44, 'openJobs': 9}, 'projectDuration': None, 'skills': [{'name': 'AI Agent Development'}, {'name': 'AI App Development'}, {'name': 'AI Model Integration'}], 'connectsRequired': 14, 'datetime': DatetimeWithNanoseconds(2025, 2, 12, 13, 42, 56, 257000, tzinfo=datetime.timezone.utc), 'descriptionLength': 1309, 'projectType': 'One-time project', 'category': 'Web Development', 'createdAt': DatetimeWithNanoseconds(2025, 2, 12, 13, 47, 56, 261000, tzinfo=datetime.timezone.utc), 'vendorQualifications': {'talentType': None, 'jobSuccessScore': None, 'minimumEarnings': None, 'location': None, 'englishLevel': None}, 'title': 'Quick mvp needed', 'questions': ['[PLEASE NO CHATGPT RESPONSES] Can you describe your experience with web scraping, particularly extracting data from platforms like StarTiger?', 'Please without ChatGPT demonstrate to me that you understand the project?', 'How would you integrate AI for tasks like fan mail generation and engagement tracking?', 'How do you manage deadlines and ensure tasks are completed on time, especially under tight schedules?', 'Do you have any question on the budget or any questions for us?']}\n"
     ]
    }
   ],
   "source": [
    "job_doc = jobs_ref.document('hRGtnOOHk46s3APSWqDX').get()\n",
    "\n",
    "if job_doc.exists:\n",
    "    print(job_doc.to_dict())\n",
    "else:\n",
    "    print(\"No such document!\")"
   ]
  },
  {
   "cell_type": "code",
   "execution_count": null,
   "metadata": {},
   "outputs": [],
   "source": []
  },
  {
   "cell_type": "code",
   "execution_count": null,
   "metadata": {},
   "outputs": [],
   "source": []
  },
  {
   "cell_type": "code",
   "execution_count": null,
   "metadata": {},
   "outputs": [],
   "source": []
  },
  {
   "cell_type": "code",
   "execution_count": 6,
   "metadata": {},
   "outputs": [
    {
     "data": {
      "text/plain": [
       "<function QueryResultsList.count(value, /)>"
      ]
     },
     "execution_count": 6,
     "metadata": {},
     "output_type": "execute_result"
    }
   ],
   "source": [
    "collection_count"
   ]
  },
  {
   "cell_type": "code",
   "execution_count": null,
   "metadata": {},
   "outputs": [],
   "source": []
  },
  {
   "cell_type": "code",
   "execution_count": null,
   "metadata": {},
   "outputs": [],
   "source": []
  },
  {
   "cell_type": "code",
   "execution_count": null,
   "metadata": {},
   "outputs": [],
   "source": []
  }
 ],
 "metadata": {
  "kernelspec": {
   "display_name": "venv",
   "language": "python",
   "name": "python3"
  },
  "language_info": {
   "codemirror_mode": {
    "name": "ipython",
    "version": 3
   },
   "file_extension": ".py",
   "mimetype": "text/x-python",
   "name": "python",
   "nbconvert_exporter": "python",
   "pygments_lexer": "ipython3",
   "version": "3.13.1"
  }
 },
 "nbformat": 4,
 "nbformat_minor": 2
}
