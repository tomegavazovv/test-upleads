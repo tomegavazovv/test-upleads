{
 "cells": [
  {
   "cell_type": "code",
   "execution_count": 2,
   "metadata": {},
   "outputs": [
    {
     "data": {
      "text/plain": [
       "<firebase_admin.App at 0x1057c1fd0>"
      ]
     },
     "execution_count": 2,
     "metadata": {},
     "output_type": "execute_result"
    }
   ],
   "source": [
    "import firebase_admin\n",
    "from firebase_admin import credentials\n",
    "from firebase_admin import firestore\n",
    "\n",
    "# Initialize Firebase Admin with your service account\n",
    "cred = credentials.Certificate('service-account-dev.json')\n",
    "firebase_admin.initialize_app(cred)"
   ]
  },
  {
   "cell_type": "code",
   "execution_count": 2,
   "metadata": {},
   "outputs": [
    {
     "name": "stdout",
     "output_type": "stream",
     "text": [
      "Number of documents in 'jobs' collection: [[<Aggregation alias=field_1, value=183494, readtime=2025-03-14 18:05:54.604946+00:00>]]\n"
     ]
    }
   ],
   "source": [
    "db = firestore.client()\n",
    "\n",
    "jobs_ref = db.collection('jobs')\n",
    "\n",
    "collection_count = jobs_ref.count().get()\n",
    "print(f\"Number of documents in 'jobs' collection: {collection_count}\")"
   ]
  },
  {
   "cell_type": "code",
   "execution_count": 3,
   "metadata": {},
   "outputs": [],
   "source": [
    "db = firestore.client()\n",
    "\n",
    "user_id = \"JmyfCYHN4gRX29H3xGEBEh3kzf72\"\n",
    "campaign_id = \"GsqyEzBQZPCmO7V1MrMa\"\n",
    "\n",
    "campaign_ref = db.document(f'users/{user_id}/campaigns/{campaign_id}')\n",
    "ai_config_ref = db.document(f'users/{user_id}/settings/aiConfig')\n",
    "\n",
    "campaign_jobs_ref = campaign_ref.collection('jobs')\n",
    "root_jobs = db.collection('jobs')\n",
    "\n"
   ]
  },
  {
   "cell_type": "code",
   "execution_count": 4,
   "metadata": {},
   "outputs": [],
   "source": [
    "job = campaign_jobs_ref.document('5Ner77pQLw1QpgOicx70').get().to_dict()\n",
    "jobUrl = root_jobs.document('5Ner77pQLw1QpgOicx70').get().to_dict()['jobUrl']\n",
    "campaign = campaign_ref.get().to_dict()"
   ]
  },
  {
   "cell_type": "code",
   "execution_count": 5,
   "metadata": {},
   "outputs": [
    {
     "data": {
      "text/plain": [
       "'https://www.upwork.com/jobs/PHP-code-create-Word-document_~021900588601033814341/?referrer_url_path=/nx/search/jobs/'"
      ]
     },
     "execution_count": 5,
     "metadata": {},
     "output_type": "execute_result"
    }
   ],
   "source": [
    "jobUrl"
   ]
  },
  {
   "cell_type": "code",
   "execution_count": null,
   "metadata": {},
   "outputs": [],
   "source": []
  },
  {
   "cell_type": "code",
   "execution_count": 78,
   "metadata": {},
   "outputs": [
    {
     "data": {
      "text/plain": [
       "{'id': 'GsqyEzBQZPCmO7V1MrMa',\n",
       " 'minimumBoost': 4.5,\n",
       " 'automatedSuitability': True,\n",
       " 'maximumBoost': 15,\n",
       " 'expenses': {'boostingAmount': 117.0,\n",
       "  'boosted': 26,\n",
       "  'biddingAmount': 59.70000000000002},\n",
       " 'updatedAt': DatetimeWithNanoseconds(2025, 3, 10, 15, 36, 17, 49000, tzinfo=datetime.timezone.utc),\n",
       " 'filters': {'clientInfo': {'clientLocationIncludes': ['United States',\n",
       "    'United Kingdom',\n",
       "    'Canada',\n",
       "    'Ireland',\n",
       "    'United Arab Emirates',\n",
       "    'Qatar',\n",
       "    'Netherlands',\n",
       "    'Monaco',\n",
       "    'Switzerland',\n",
       "    'Finland',\n",
       "    'Germany',\n",
       "    'France',\n",
       "    'Saudi Arabia',\n",
       "    'Singapore',\n",
       "    'Italy'],\n",
       "   'isPaymentVerified': 'true'},\n",
       "  'categories': {'includes': ['ERP/CRM Software',\n",
       "    'Other - Software Development',\n",
       "    'Web & Mobile Design',\n",
       "    'Web Development',\n",
       "    'Mobile Development']},\n",
       "  'payment': {'paymentType': []},\n",
       "  'keywords': {'includes': 'MVP | APP | Saas | Retirement Savings Calculator website'},\n",
       "  'experienceLevel': ['Expert'],\n",
       "  'vendorQualifications': {'locationIncludes': []},\n",
       "  'questions': {'hasQuestions': 'all'}},\n",
       " 'name': 'MVP',\n",
       " 'boostingEnabled': True,\n",
       " 'webhookUrl': 'https://discord.com/api/webhooks/1345850907304267848/nU3sdB8H-WoVw5tfERhLv7vVNZc7ruyRjFJuT1R9BtLztIdUZfN7lzCdQk-LuAeX90fF',\n",
       " 'monthlyBudget': None,\n",
       " 'jobCounts': {'replied': 0,\n",
       "  'contacted': 36,\n",
       "  'won': 1,\n",
       "  'viewed': 2,\n",
       "  'leads': 1375,\n",
       "  'negotiations': 1,\n",
       "  'lost': 0},\n",
       " 'createdAt': {'_seconds': 1740662555, '_nanoseconds': 563000000},\n",
       " 'boostingThreshold': 70,\n",
       " 'automatedBidding': True,\n",
       " 'suitabilityThreshold': 70}"
      ]
     },
     "execution_count": 78,
     "metadata": {},
     "output_type": "execute_result"
    }
   ],
   "source": [
    "campaign"
   ]
  },
  {
   "cell_type": "code",
   "execution_count": 5,
   "metadata": {},
   "outputs": [],
   "source": [
    "job['suitabilityProposal'] = 'I can do this job. Easy peasy.'\n",
    "job['suitabilityQuestionAnswerPairs'] = []"
   ]
  },
  {
   "cell_type": "code",
   "execution_count": null,
   "metadata": {},
   "outputs": [],
   "source": []
  },
  {
   "cell_type": "code",
   "execution_count": 6,
   "metadata": {},
   "outputs": [],
   "source": [
    "import requests\n",
    "import json\n",
    "\n",
    "def start_bidding(job,jobUrl, campaign):\n",
    "    url = \"http://localhost:8080/api/bid\"\n",
    "    \n",
    "    payload = {\n",
    "        \"jobUrl\": jobUrl,\n",
    "        \"proposal\": {  \n",
    "            \"coverLetter\": job.get(\"suitabilityProposal\"),\n",
    "            \"questionAnswers\": job.get(\"suitabilityQuestionAnswerPairs\"),\n",
    "            \"boostingEnabled\": True,\n",
    "            \"minimumBoost\": 2,\n",
    "            \"maximumBoost\": 15\n",
    "        }\n",
    "    }\n",
    "    \n",
    "    response = requests.post(\n",
    "        url,\n",
    "        data=json.dumps(payload),\n",
    "        headers={\"Content-Type\": \"application/json\"}\n",
    "    )\n",
    "    \n",
    "    # Check if the request was successful\n",
    "    if response.status_code >= 200 and response.status_code < 300:\n",
    "        return response.json()\n",
    "    else:\n",
    "        print(f\"Error: {response.status_code}\")\n",
    "        print(response.text)\n",
    "        return None\n",
    "\n",
    "# Example usage:\n",
    "# bidding_result = start_bidding(job, campaign)"
   ]
  },
  {
   "cell_type": "code",
   "execution_count": 7,
   "metadata": {},
   "outputs": [
    {
     "data": {
      "text/plain": [
       "{'status': 'success',\n",
       " 'biddingAmount': 2.1,\n",
       " 'boosted': True,\n",
       " 'boostingAmount': 2.55}"
      ]
     },
     "execution_count": 7,
     "metadata": {},
     "output_type": "execute_result"
    }
   ],
   "source": [
    "result = start_bidding(job,jobUrl, campaign)\n",
    "result"
   ]
  },
  {
   "cell_type": "code",
   "execution_count": 2,
   "metadata": {},
   "outputs": [],
   "source": [
    "import requests"
   ]
  },
  {
   "cell_type": "code",
   "execution_count": 9,
   "metadata": {},
   "outputs": [
    {
     "data": {
      "text/plain": [
       "<Response [201]>"
      ]
     },
     "execution_count": 9,
     "metadata": {},
     "output_type": "execute_result"
    }
   ],
   "source": [
    "requests.post('https://65f9-185-225-30-43.ngrok-free.app/queue/process', {\n",
    "  \"jobIds\": [\"5Ner77pQLw1QpgOicx70\", \"5Ner77pQLw1QpgOicx70\", '5Ner77pQLw1QpgOicx70'],\n",
    "  \"userIds\": [\"JmyfCYHN4gRX29H3xGEBEh3kzf72\", \"JmyfCYHN4gRX29H3xGEBEh3kzf72\", \"JmyfCYHN4gRX29H3xGEBEh3kzf72\"]\n",
    "})"
   ]
  },
  {
   "cell_type": "code",
   "execution_count": null,
   "metadata": {},
   "outputs": [],
   "source": []
  },
  {
   "cell_type": "code",
   "execution_count": null,
   "metadata": {},
   "outputs": [],
   "source": []
  },
  {
   "cell_type": "code",
   "execution_count": null,
   "metadata": {},
   "outputs": [],
   "source": []
  },
  {
   "cell_type": "code",
   "execution_count": null,
   "metadata": {},
   "outputs": [],
   "source": []
  },
  {
   "cell_type": "code",
   "execution_count": null,
   "metadata": {},
   "outputs": [],
   "source": []
  },
  {
   "cell_type": "code",
   "execution_count": null,
   "metadata": {},
   "outputs": [],
   "source": []
  },
  {
   "cell_type": "code",
   "execution_count": null,
   "metadata": {},
   "outputs": [],
   "source": []
  },
  {
   "cell_type": "code",
   "execution_count": null,
   "metadata": {},
   "outputs": [],
   "source": []
  },
  {
   "cell_type": "code",
   "execution_count": null,
   "metadata": {},
   "outputs": [],
   "source": []
  },
  {
   "cell_type": "code",
   "execution_count": 52,
   "metadata": {},
   "outputs": [
    {
     "ename": "NameError",
     "evalue": "name 'jobs_ref' is not defined",
     "output_type": "error",
     "traceback": [
      "\u001b[0;31m---------------------------------------------------------------------------\u001b[0m",
      "\u001b[0;31mNameError\u001b[0m                                 Traceback (most recent call last)",
      "Cell \u001b[0;32mIn[52], line 1\u001b[0m\n\u001b[0;32m----> 1\u001b[0m collection_count \u001b[38;5;241m=\u001b[39m \u001b[43mjobs_ref\u001b[49m\u001b[38;5;241m.\u001b[39mcount()\u001b[38;5;241m.\u001b[39mget()\n\u001b[1;32m      2\u001b[0m \u001b[38;5;28mprint\u001b[39m(\u001b[38;5;124mf\u001b[39m\u001b[38;5;124m\"\u001b[39m\u001b[38;5;124mNumber of documents in \u001b[39m\u001b[38;5;124m'\u001b[39m\u001b[38;5;124mjobs\u001b[39m\u001b[38;5;124m'\u001b[39m\u001b[38;5;124m collection: \u001b[39m\u001b[38;5;132;01m{\u001b[39;00mcollection_count\u001b[38;5;132;01m}\u001b[39;00m\u001b[38;5;124m\"\u001b[39m)\n",
      "\u001b[0;31mNameError\u001b[0m: name 'jobs_ref' is not defined"
     ]
    }
   ],
   "source": [
    "collection_count = jobs_ref.count().get()\n",
    "print(f\"Number of documents in 'jobs' collection: {collection_count}\")"
   ]
  },
  {
   "cell_type": "code",
   "execution_count": 4,
   "metadata": {},
   "outputs": [
    {
     "name": "stdout",
     "output_type": "stream",
     "text": [
      "{'description': 'I am looking for a automation specialist to develop a structured, modular system for data extraction, document management, and workflow automation. The project involves automating celebrity-related data retrieval, including address verification, image sourcing, and engagement tracking. Additional tasks include integrating APIs for movie/show script processing, AI-powered fan mail generation, and logistics automation. The ideal candidate will have expertise in web scraping, AI-driven validation, API integrations, and workflow optimization.\\n\\nProject Details are attached as PDF\\n\\nGeneral Details: \\n- Schedule: I need the system built within two weeks.\\n- Loom Walkthrough: A well-recorded, intuitive Loom video walkthrough that clearly explains the system. This should be accompanied by thorough documentation.\\n- Documentation: In addition to written instructions, include detailed flowcharts or diagrams to help future developers or non-technical team members understand the system’s structure.\\n- System Accessibility: Ensure the system is accessible through forward linking to a domain (e.g. autographproject.com forward directs to the GoogleSheet that is the home)\\n- Gantt Chart: A Gantt chart with major milestones that correspond to the project timeline.\\n\\nIf you can do good work here I have more work.', 'jobUrl': 'https://www.upwork.com/jobs/Quick-mvp-needed_~021889671364444910906/?referrer_url_path=/nx/search/jobs/', 'metadata': {'fixedPrice': 240, 'duration': None, 'hourlyRate': None, 'hours': None, 'paymentType': 'Fixed-price', 'experienceLevel': 'Intermediate'}, 'id': '', 'clientInfo': {'numberOfHires': 39, 'activeEngagements': 4, 'companyIndustry': None, 'totalSpent': 10000, 'isPaymentVerified': True, 'numberOfReviews': 22, 'rating': 4.9, 'region': 'Americas', 'memberSince': 'Jul 30, 2017', 'hireRate': 53, 'companySize': None, 'country': 'United States', 'enterpriseClient': False, 'jobsPosted': 44, 'openJobs': 9}, 'projectDuration': None, 'skills': [{'name': 'AI Agent Development'}, {'name': 'AI App Development'}, {'name': 'AI Model Integration'}], 'connectsRequired': 14, 'datetime': DatetimeWithNanoseconds(2025, 2, 12, 13, 42, 56, 257000, tzinfo=datetime.timezone.utc), 'descriptionLength': 1309, 'projectType': 'One-time project', 'category': 'Web Development', 'createdAt': DatetimeWithNanoseconds(2025, 2, 12, 13, 47, 56, 261000, tzinfo=datetime.timezone.utc), 'vendorQualifications': {'talentType': None, 'jobSuccessScore': None, 'minimumEarnings': None, 'location': None, 'englishLevel': None}, 'title': 'Quick mvp needed', 'questions': ['[PLEASE NO CHATGPT RESPONSES] Can you describe your experience with web scraping, particularly extracting data from platforms like StarTiger?', 'Please without ChatGPT demonstrate to me that you understand the project?', 'How would you integrate AI for tasks like fan mail generation and engagement tracking?', 'How do you manage deadlines and ensure tasks are completed on time, especially under tight schedules?', 'Do you have any question on the budget or any questions for us?']}\n"
     ]
    }
   ],
   "source": [
    "job_doc = jobs_ref.document('hRGtnOOHk46s3APSWqDX').get()\n",
    "\n",
    "if job_doc.exists:\n",
    "    print(job_doc.to_dict())\n",
    "else:\n",
    "    print(\"No such document!\")"
   ]
  },
  {
   "cell_type": "code",
   "execution_count": 2,
   "metadata": {},
   "outputs": [
    {
     "name": "stdout",
     "output_type": "stream",
     "text": [
      "Connection successful!\n",
      "Response: Hello! I'm here to help. It looks like your API key is working fine as I received your message. How can I assist you today?\n"
     ]
    }
   ],
   "source": [
    "import openai\n",
    "\n",
    "response = openai.chat.completions.create(\n",
    "    model=\"gpt-3.5-turbo\",\n",
    "    messages=[\n",
    "        {\"role\": \"system\", \"content\": \"You are a helpful assistant.\"},\n",
    "        {\"role\": \"user\", \"content\": \"Hello, this is a test message to verify my API key works.\"}\n",
    "    ]\n",
    ")\n",
    "print(\"Connection successful!\")\n",
    "print(\"Response:\", response.choices[0].message.content)"
   ]
  },
  {
   "cell_type": "code",
   "execution_count": null,
   "metadata": {},
   "outputs": [],
   "source": []
  },
  {
   "cell_type": "code",
   "execution_count": null,
   "metadata": {},
   "outputs": [],
   "source": []
  },
  {
   "cell_type": "code",
   "execution_count": 6,
   "metadata": {},
   "outputs": [
    {
     "data": {
      "text/plain": [
       "<function QueryResultsList.count(value, /)>"
      ]
     },
     "execution_count": 6,
     "metadata": {},
     "output_type": "execute_result"
    }
   ],
   "source": [
    "collection_count"
   ]
  },
  {
   "cell_type": "code",
   "execution_count": null,
   "metadata": {},
   "outputs": [],
   "source": []
  },
  {
   "cell_type": "code",
   "execution_count": null,
   "metadata": {},
   "outputs": [],
   "source": []
  },
  {
   "cell_type": "code",
   "execution_count": null,
   "metadata": {},
   "outputs": [],
   "source": []
  }
 ],
 "metadata": {
  "kernelspec": {
   "display_name": "venv",
   "language": "python",
   "name": "python3"
  },
  "language_info": {
   "codemirror_mode": {
    "name": "ipython",
    "version": 3
   },
   "file_extension": ".py",
   "mimetype": "text/x-python",
   "name": "python",
   "nbconvert_exporter": "python",
   "pygments_lexer": "ipython3",
   "version": "3.13.1"
  }
 },
 "nbformat": 4,
 "nbformat_minor": 2
}
